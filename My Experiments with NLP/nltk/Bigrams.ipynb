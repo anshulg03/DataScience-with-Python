{
 "cells": [
  {
   "cell_type": "code",
   "execution_count": 1,
   "metadata": {
    "collapsed": true
   },
   "outputs": [],
   "source": [
    "import nltk\n"
   ]
  },
  {
   "cell_type": "code",
   "execution_count": 36,
   "metadata": {
    "collapsed": true
   },
   "outputs": [],
   "source": [
    "text=\"I think it might rain today.\""
   ]
  },
  {
   "cell_type": "code",
   "execution_count": 37,
   "metadata": {
    "collapsed": false
   },
   "outputs": [],
   "source": [
    "tokens=nltk.word_tokenize(text)"
   ]
  },
  {
   "cell_type": "code",
   "execution_count": 38,
   "metadata": {
    "collapsed": false
   },
   "outputs": [
    {
     "data": {
      "text/plain": [
       "['I', 'think', 'it', 'might', 'rain', 'today', '.']"
      ]
     },
     "execution_count": 38,
     "metadata": {},
     "output_type": "execute_result"
    }
   ],
   "source": [
    "tokens"
   ]
  },
  {
   "cell_type": "code",
   "execution_count": 39,
   "metadata": {
    "collapsed": true
   },
   "outputs": [],
   "source": [
    "bigrams=nltk.bigrams(tokens)"
   ]
  },
  {
   "cell_type": "code",
   "execution_count": 40,
   "metadata": {
    "collapsed": false
   },
   "outputs": [
    {
     "name": "stdout",
     "output_type": "stream",
     "text": [
      "('I', 'think')\n",
      "('think', 'it')\n",
      "('it', 'might')\n",
      "('might', 'rain')\n",
      "('rain', 'today')\n",
      "('today', '.')\n"
     ]
    }
   ],
   "source": [
    "for item in bigrams:\n",
    "    print item"
   ]
  },
  {
   "cell_type": "code",
   "execution_count": 41,
   "metadata": {
    "collapsed": true
   },
   "outputs": [],
   "source": [
    "trigrams=nltk.trigrams(tokens)"
   ]
  },
  {
   "cell_type": "code",
   "execution_count": 42,
   "metadata": {
    "collapsed": false
   },
   "outputs": [
    {
     "name": "stdout",
     "output_type": "stream",
     "text": [
      "('I', 'think', 'it')\n",
      "('think', 'it', 'might')\n",
      "('it', 'might', 'rain')\n",
      "('might', 'rain', 'today')\n",
      "('rain', 'today', '.')\n"
     ]
    }
   ],
   "source": [
    "for item in trigrams:\n",
    "    print item"
   ]
  },
  {
   "cell_type": "code",
   "execution_count": 43,
   "metadata": {
    "collapsed": true
   },
   "outputs": [],
   "source": [
    "text2=text+\"If it is good ,I will go to the beach\""
   ]
  },
  {
   "cell_type": "code",
   "execution_count": 44,
   "metadata": {
    "collapsed": false
   },
   "outputs": [
    {
     "data": {
      "text/plain": [
       "'I think it might rain today.If it is good ,I will go to the beach'"
      ]
     },
     "execution_count": 44,
     "metadata": {},
     "output_type": "execute_result"
    }
   ],
   "source": [
    "text2"
   ]
  },
  {
   "cell_type": "code",
   "execution_count": 45,
   "metadata": {
    "collapsed": false
   },
   "outputs": [],
   "source": [
    "ngrams1=nltk.ngrams(tokens,2)"
   ]
  },
  {
   "cell_type": "code",
   "execution_count": 46,
   "metadata": {
    "collapsed": false
   },
   "outputs": [
    {
     "name": "stdout",
     "output_type": "stream",
     "text": [
      "('I', 'think')\n",
      "('think', 'it')\n",
      "('it', 'might')\n",
      "('might', 'rain')\n",
      "('rain', 'today')\n",
      "('today', '.')\n"
     ]
    }
   ],
   "source": [
    "for item in ngrams1:\n",
    "    print item"
   ]
  },
  {
   "cell_type": "code",
   "execution_count": 47,
   "metadata": {
    "collapsed": true
   },
   "outputs": [],
   "source": [
    "ngrams1=nltk.ngrams(tokens,4)"
   ]
  },
  {
   "cell_type": "code",
   "execution_count": 48,
   "metadata": {
    "collapsed": false
   },
   "outputs": [
    {
     "name": "stdout",
     "output_type": "stream",
     "text": [
      "('I', 'think', 'it', 'might')\n",
      "('think', 'it', 'might', 'rain')\n",
      "('it', 'might', 'rain', 'today')\n",
      "('might', 'rain', 'today', '.')\n"
     ]
    }
   ],
   "source": [
    "for item in ngrams1:\n",
    "    print item"
   ]
  },
  {
   "cell_type": "code",
   "execution_count": 58,
   "metadata": {
    "collapsed": true
   },
   "outputs": [],
   "source": [
    "def n_gram(texts,n):\n",
    "    tokens=nltk.word_tokenize(texts)\n",
    "    ngram=nltk.ngrams(tokens,n)\n",
    "    return ngram\n",
    "    #for item in ngram:\n",
    "     #   return item"
   ]
  },
  {
   "cell_type": "code",
   "execution_count": 59,
   "metadata": {
    "collapsed": false
   },
   "outputs": [],
   "source": [
    "ngrams=n_gram(text2,5)"
   ]
  },
  {
   "cell_type": "code",
   "execution_count": 60,
   "metadata": {
    "collapsed": false
   },
   "outputs": [
    {
     "name": "stdout",
     "output_type": "stream",
     "text": [
      "('I', 'think', 'it', 'might', 'rain')\n",
      "('think', 'it', 'might', 'rain', 'today.If')\n",
      "('it', 'might', 'rain', 'today.If', 'it')\n",
      "('might', 'rain', 'today.If', 'it', 'is')\n",
      "('rain', 'today.If', 'it', 'is', 'good')\n",
      "('today.If', 'it', 'is', 'good', ',')\n",
      "('it', 'is', 'good', ',', 'I')\n",
      "('is', 'good', ',', 'I', 'will')\n",
      "('good', ',', 'I', 'will', 'go')\n",
      "(',', 'I', 'will', 'go', 'to')\n",
      "('I', 'will', 'go', 'to', 'the')\n",
      "('will', 'go', 'to', 'the', 'beach')\n"
     ]
    }
   ],
   "source": [
    "for item in ngrams:\n",
    "    print item"
   ]
  },
  {
   "cell_type": "code",
   "execution_count": 61,
   "metadata": {
    "collapsed": true
   },
   "outputs": [],
   "source": [
    "import re"
   ]
  },
  {
   "cell_type": "code",
   "execution_count": 62,
   "metadata": {
    "collapsed": true
   },
   "outputs": [],
   "source": [
    "alice=nltk.corpus.gutenberg.words(\"carroll-alice.txt\")"
   ]
  },
  {
   "cell_type": "code",
   "execution_count": 64,
   "metadata": {
    "collapsed": false
   },
   "outputs": [
    {
     "data": {
      "text/plain": [
       "{u'new', u'newspapers'}"
      ]
     },
     "execution_count": 64,
     "metadata": {},
     "output_type": "execute_result"
    }
   ],
   "source": [
    "set([word for word in alice if re.search(\"^new\",word)])"
   ]
  },
  {
   "cell_type": "code",
   "execution_count": 65,
   "metadata": {
    "collapsed": false
   },
   "outputs": [
    {
     "data": {
      "text/plain": [
       "{u'Advice',\n",
       " u'Alice',\n",
       " u'Arithmetic',\n",
       " u'Back',\n",
       " u'Because',\n",
       " u'Caucus',\n",
       " u'Classics',\n",
       " u'Distraction',\n",
       " u'Duchess',\n",
       " u'Duck',\n",
       " u'Each',\n",
       " u'Exactly',\n",
       " u'Jack',\n",
       " u'Lacie',\n",
       " u'Luckily',\n",
       " u'Mock',\n",
       " u'Multiplication',\n",
       " u'Quick',\n",
       " u'Race',\n",
       " u'Such',\n",
       " u'Treacle',\n",
       " u'Uglification',\n",
       " u'Which',\n",
       " u'acceptance',\n",
       " u'accident',\n",
       " u'accidentally',\n",
       " u'account',\n",
       " u'accounting',\n",
       " u'accounts',\n",
       " u'accusation',\n",
       " u'accustomed',\n",
       " u'ache',\n",
       " u'across',\n",
       " u'act',\n",
       " u'actually',\n",
       " u'advice',\n",
       " u'affectionately',\n",
       " u'back',\n",
       " u'backs',\n",
       " u'became',\n",
       " u'because',\n",
       " u'become',\n",
       " u'becoming',\n",
       " u'blacking',\n",
       " u'cackled',\n",
       " u'character',\n",
       " u'checked',\n",
       " u'choice',\n",
       " u'chuckled',\n",
       " u'clock',\n",
       " u'collected',\n",
       " u'conduct',\n",
       " u'contradicted',\n",
       " u'crocodile',\n",
       " u'crouched',\n",
       " u'cucumber',\n",
       " u'decided',\n",
       " u'decidedly',\n",
       " u'declare',\n",
       " u'declared',\n",
       " u'difficult',\n",
       " u'difficulties',\n",
       " u'difficulty',\n",
       " u'directed',\n",
       " u'direction',\n",
       " u'directions',\n",
       " u'directly',\n",
       " u'duck',\n",
       " u'each',\n",
       " u'educations',\n",
       " u'effect',\n",
       " u'energetic',\n",
       " u'exact',\n",
       " u'exactly',\n",
       " u'execute',\n",
       " u'executed',\n",
       " u'executes',\n",
       " u'execution',\n",
       " u'executioner',\n",
       " u'executions',\n",
       " u'expected',\n",
       " u'expecting',\n",
       " u'face',\n",
       " u'faces',\n",
       " u'fact',\n",
       " u'fireplace',\n",
       " u'flock',\n",
       " u'frontispiece',\n",
       " u'graceful',\n",
       " u'idiotic',\n",
       " u'introduce',\n",
       " u'introduced',\n",
       " u'justice',\n",
       " u'kick',\n",
       " u'knock',\n",
       " u'knocked',\n",
       " u'knocking',\n",
       " u'knuckles',\n",
       " u'licking',\n",
       " u'lock',\n",
       " u'locked',\n",
       " u'locks',\n",
       " u'luckily',\n",
       " u'machines',\n",
       " u'magic',\n",
       " u'mice',\n",
       " u'much',\n",
       " u'muchness',\n",
       " u'music',\n",
       " u'neck',\n",
       " u'nice',\n",
       " u'nicely',\n",
       " u'notice',\n",
       " u'noticed',\n",
       " u'noticing',\n",
       " u'obstacle',\n",
       " u'occasional',\n",
       " u'occasionally',\n",
       " u'occurred',\n",
       " u'officer',\n",
       " u'officers',\n",
       " u'pace',\n",
       " u'pack',\n",
       " u'particular',\n",
       " u'patriotic',\n",
       " u'perfectly',\n",
       " u'picked',\n",
       " u'picking',\n",
       " u'picture',\n",
       " u'pictured',\n",
       " u'pictures',\n",
       " u'piece',\n",
       " u'pieces',\n",
       " u'place',\n",
       " u'placed',\n",
       " u'places',\n",
       " u'pocket',\n",
       " u'practice',\n",
       " u'proceed',\n",
       " u'procession',\n",
       " u'processions',\n",
       " u'produced',\n",
       " u'producing',\n",
       " u'prosecute',\n",
       " u'protection',\n",
       " u'quick',\n",
       " u'quicker',\n",
       " u'quickly',\n",
       " u'race',\n",
       " u'reach',\n",
       " u'reaching',\n",
       " u'received',\n",
       " u'recognised',\n",
       " u'recovered',\n",
       " u'reduced',\n",
       " u'respect',\n",
       " u'respectable',\n",
       " u'respectful',\n",
       " u'rich',\n",
       " u'ridiculous',\n",
       " u'rock',\n",
       " u'rocket',\n",
       " u'saucepan',\n",
       " u'saucepans',\n",
       " u'saucer',\n",
       " u'second',\n",
       " u'secondly',\n",
       " u'secret',\n",
       " u'shock',\n",
       " u'spectacles',\n",
       " u'speech',\n",
       " u'stick',\n",
       " u'sticks',\n",
       " u'stockings',\n",
       " u'struck',\n",
       " u'subject',\n",
       " u'subjects',\n",
       " u'succeeded',\n",
       " u'such',\n",
       " u'teaching',\n",
       " u'teacup',\n",
       " u'teacups',\n",
       " u'thick',\n",
       " u'touch',\n",
       " u'treacle',\n",
       " u'trickling',\n",
       " u'tricks',\n",
       " u'tucked',\n",
       " u'twice',\n",
       " u'unlocking',\n",
       " u'verdict',\n",
       " u'voice',\n",
       " u'voices',\n",
       " u'which'}"
      ]
     },
     "execution_count": 65,
     "metadata": {},
     "output_type": "execute_result"
    }
   ],
   "source": [
    "set([word for word in alice if re.search(\"[aeiou]c\",word)])"
   ]
  },
  {
   "cell_type": "code",
   "execution_count": 67,
   "metadata": {
    "collapsed": false
   },
   "outputs": [
    {
     "data": {
      "text/plain": [
       "{u'Exactly',\n",
       " u'Luckily',\n",
       " u'accidentally',\n",
       " u'actually',\n",
       " u'affectionately',\n",
       " u'decidedly',\n",
       " u'difficulty',\n",
       " u'directly',\n",
       " u'exactly',\n",
       " u'luckily',\n",
       " u'nicely',\n",
       " u'occasionally',\n",
       " u'perfectly',\n",
       " u'quickly',\n",
       " u'secondly'}"
      ]
     },
     "execution_count": 67,
     "metadata": {},
     "output_type": "execute_result"
    }
   ],
   "source": [
    "set([word for word in alice if re.search(\"[aeiou]c.+y$\",word)])"
   ]
  },
  {
   "cell_type": "code",
   "execution_count": 68,
   "metadata": {
    "collapsed": false
   },
   "outputs": [
    {
     "data": {
      "text/plain": [
       "{u'Beautiful',\n",
       " u'barrowful',\n",
       " u'beautiful',\n",
       " u'delightful',\n",
       " u'doubtful',\n",
       " u'dreadful',\n",
       " u'graceful',\n",
       " u'hopeful',\n",
       " u'mournful',\n",
       " u'ootiful',\n",
       " u'respectful',\n",
       " u'sorrowful',\n",
       " u'truthful',\n",
       " u'useful',\n",
       " u'wonderful'}"
      ]
     },
     "execution_count": 68,
     "metadata": {},
     "output_type": "execute_result"
    }
   ],
   "source": [
    "set([word for word in alice if re.search(\"ful$\",word)])"
   ]
  },
  {
   "cell_type": "code",
   "execution_count": 69,
   "metadata": {
    "collapsed": false
   },
   "outputs": [
    {
     "data": {
      "text/plain": [
       "{u'cannot', u'dinner', u'fanned', u'manner', u'tunnel'}"
      ]
     },
     "execution_count": 69,
     "metadata": {},
     "output_type": "execute_result"
    }
   ],
   "source": [
    "set([word for word in alice if re.search(\"^..nn..$\",word)])"
   ]
  },
  {
   "cell_type": "code",
   "execution_count": 70,
   "metadata": {
    "collapsed": false
   },
   "outputs": [
    {
     "data": {
      "text/plain": [
       "{u'Dinn', u'dinn'}"
      ]
     },
     "execution_count": 70,
     "metadata": {},
     "output_type": "execute_result"
    }
   ],
   "source": [
    "set([word for word in alice if re.search(\"^..nn$\",word)])"
   ]
  },
  {
   "cell_type": "code",
   "execution_count": 73,
   "metadata": {
    "collapsed": false
   },
   "outputs": [
    {
     "data": {
      "text/plain": [
       "{u'cat', u'hat', u'rat'}"
      ]
     },
     "execution_count": 73,
     "metadata": {},
     "output_type": "execute_result"
    }
   ],
   "source": [
    "set([word for word in alice if re.search(\"^[chr]at$\",word)])"
   ]
  },
  {
   "cell_type": "code",
   "execution_count": 74,
   "metadata": {
    "collapsed": false
   },
   "outputs": [
    {
     "data": {
      "text/plain": [
       "{u'Ann',\n",
       " u'Dinn',\n",
       " u'Pennyworth',\n",
       " u'annoy',\n",
       " u'annoyed',\n",
       " u'beginning',\n",
       " u'cannot',\n",
       " u'cunning',\n",
       " u'dinn',\n",
       " u'dinner',\n",
       " u'fanned',\n",
       " u'fanning',\n",
       " u'funny',\n",
       " u'grinned',\n",
       " u'grinning',\n",
       " u'manner',\n",
       " u'manners',\n",
       " u'planning',\n",
       " u'running',\n",
       " u'tunnel'}"
      ]
     },
     "execution_count": 74,
     "metadata": {},
     "output_type": "execute_result"
    }
   ],
   "source": [
    "set([word for word in alice if re.search(\"^.*nn.*$\",word)])"
   ]
  },
  {
   "cell_type": "code",
   "execution_count": null,
   "metadata": {
    "collapsed": true
   },
   "outputs": [],
   "source": []
  }
 ],
 "metadata": {
  "kernelspec": {
   "display_name": "Python 2",
   "language": "python",
   "name": "python2"
  },
  "language_info": {
   "codemirror_mode": {
    "name": "ipython",
    "version": 2
   },
   "file_extension": ".py",
   "mimetype": "text/x-python",
   "name": "python",
   "nbconvert_exporter": "python",
   "pygments_lexer": "ipython2",
   "version": "2.7.13"
  }
 },
 "nbformat": 4,
 "nbformat_minor": 2
}

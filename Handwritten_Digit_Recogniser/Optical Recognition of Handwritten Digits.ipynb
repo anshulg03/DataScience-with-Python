{
 "cells": [
  {
   "cell_type": "code",
   "execution_count": 68,
   "metadata": {
    "collapsed": true
   },
   "outputs": [],
   "source": [
    "import pandas as pd\n",
    "from sklearn.svm import SVC\n",
    "import matplotlib.pyplot as plt\n",
    "\n",
    "# The Dataset comes from:\n",
    "# https://archive.ics.uci.edu/ml/datasets/Optical+Recognition+of+Handwritten+Digits"
   ]
  },
  {
   "cell_type": "code",
   "execution_count": 69,
   "metadata": {
    "collapsed": true
   },
   "outputs": [],
   "source": [
    "def load(path_test, path_train):\n",
    "  # Load up the data.\n",
    "  with open(path_test, 'r')  as f: testing  = pd.read_csv(f)\n",
    "  with open(path_train, 'r') as f: training = pd.read_csv(f)\n",
    "\n",
    "  # The number of samples between training and testing can vary\n",
    "  # But the number of features better remain the same!\n",
    "  n_features = testing.shape[1]\n",
    "\n",
    "  X_test  = testing.ix[:,:n_features-1]\n",
    "  X_train = training.ix[:,:n_features-1]\n",
    "  y_test  = testing.ix[:,n_features-1:].values.ravel()\n",
    "  y_train = training.ix[:,n_features-1:].values.ravel()\n",
    "\n",
    "  \n",
    "  # Special\n",
    "  # X_train = X_train.ix[:152,]\n",
    "  # y_train = y_train[:153]\n",
    "\n",
    "  return X_train, X_test, y_train, y_test\n"
   ]
  },
  {
   "cell_type": "code",
   "execution_count": 70,
   "metadata": {
    "collapsed": true
   },
   "outputs": [],
   "source": [
    "def peekData(X_train):\n",
    "  # The 'targets' or labels are stored in y. The 'samples' or data is stored in X\n",
    "  print (\"Peeking into data...\")\n",
    "  fig = plt.figure()\n",
    "\n",
    "  cnt = 0\n",
    "  for col in range(5):\n",
    "    for row in range(10):\n",
    "      plt.subplot(5, 10, cnt + 1)\n",
    "      plt.imshow(X_train.ix[cnt,:].values.reshape(8,8), cmap=plt.cm.gray_r, interpolation='nearest')\n",
    "      plt.axis('off')\n",
    "      cnt += 1\n",
    " # fig.set_tight_layout(True)\n",
    "  plt.show()"
   ]
  },
  {
   "cell_type": "code",
   "execution_count": 71,
   "metadata": {
    "collapsed": true
   },
   "outputs": [],
   "source": [
    "def drawPredictions(X_train, X_test, y_train, y_test):\n",
    "  fig = plt.figure(figsize=(9, 9))\n",
    "\n",
    "  # Make some guesses\n",
    "  y_guess = model.predict(X_test)\n",
    "\n",
    "\n",
    "  num_rows = 10\n",
    "  num_cols = 5\n",
    "\n",
    "  index = 0\n",
    "  for col in range(num_cols):\n",
    "    for row in range(num_rows):\n",
    "      plt.subplot(num_cols, num_rows, index + 1)\n",
    "\n",
    "      # 8x8 is the size of the image, 64 pixels\n",
    "      plt.imshow(X_test.ix[index,:].values.reshape(8,8), cmap=plt.cm.gray_r, interpolation='nearest')\n",
    "\n",
    "      # Green = Guessed right\n",
    "      # Red = Fail!\n",
    "      fontcolor = 'g' if y_test[index] == y_guess[index] else 'r'\n",
    "      plt.title('Label: %i' % y_guess[index], fontsize=9, color=fontcolor)\n",
    "      plt.axis('off')\n",
    "      index += 1\n",
    " # fig.set_tight_layout(True)\n",
    "  plt.show()"
   ]
  },
  {
   "cell_type": "code",
   "execution_count": 72,
   "metadata": {
    "collapsed": false
   },
   "outputs": [
    {
     "name": "stdout",
     "output_type": "stream",
     "text": [
      "Peeking into data...\n"
     ]
    },
    {
     "data": {
      "image/png": "[encoded data removed]",
      "text/plain": [
       "<matplotlib.figure.Figure at 0x2280b3266d8>"
      ]
     },
     "metadata": {},
     "output_type": "display_data"
    }
   ],
   "source": [
    "X_train, X_test, y_train, y_test = load('C:/Users/anshangu/Documents/GitHub/Python_LogisticReg/DataScience-with-Python/Handwritten_Digit_Recogniser/optdigits.tes', \n",
    "                                        'C:/Users/anshangu/Documents/GitHub/Python_LogisticReg/DataScience-with-Python/Handwritten_Digit_Recogniser/optdigits.tra')\n",
    "\n",
    "peekData(X_train)"
   ]
  },
  {
   "cell_type": "code",
   "execution_count": 73,
   "metadata": {
    "collapsed": false
   },
   "outputs": [
    {
     "name": "stdout",
     "output_type": "stream",
     "text": [
      "Training SVC Classifier...\n",
      "Scoring SVC Classifier...\n",
      "Score:\n",
      " 0.982739420935\n"
     ]
    }
   ],
   "source": [
    "print (\"Training SVC Classifier...\")\n",
    "\n",
    "model = SVC(kernel = 'rbf', C=1, gamma = 0.001)\n",
    "model.fit(X_train, y_train)\n",
    "\n",
    "\n",
    "\n",
    "print (\"Scoring SVC Classifier...\")\n",
    "\n",
    "score = model.score(X_test, y_test)\n",
    "print (\"Score:\\n\", score)"
   ]
  },
  {
   "cell_type": "code",
   "execution_count": 74,
   "metadata": {
    "collapsed": false
   },
   "outputs": [
    {
     "data": {
      "image/png": "[encoded data removed]",
      "text/plain": [
       "<matplotlib.figure.Figure at 0x2280b70eb70>"
      ]
     },
     "metadata": {},
     "output_type": "display_data"
    }
   ],
   "source": [
    "# Visual Confirmation of accuracy\n",
    "drawPredictions(X_train, X_test, y_train, y_test)"
   ]
  },
  {
   "cell_type": "code",
   "execution_count": 75,
   "metadata": {
    "collapsed": false
   },
   "outputs": [
    {
     "name": "stdout",
     "output_type": "stream",
     "text": [
      "1000th test label:  4\n",
      "1000th test prediction:  [4]\n"
     ]
    },
    {
     "data": {
      "image/png": "[encoded data removed]",
      "text/plain": [
       "<matplotlib.figure.Figure at 0x2280b787278>"
      ]
     },
     "metadata": {},
     "output_type": "display_data"
    }
   ],
   "source": [
    "# Print the TRUE value of the 1000th digit in the test set\n",
    "#\n",
    "true_1000th_test_value = y_test[1000]\n",
    "\n",
    "print (\"1000th test label: \", true_1000th_test_value)\n",
    "\n",
    "\n",
    "\n",
    "# Predict the value of the 1000th digit in the test set.\n",
    "\n",
    "guess_1000th_test_value = model.predict(X_test.iloc[[1000]])\n",
    "print (\"1000th test prediction: \", guess_1000th_test_value)\n",
    "\n",
    "# visually check if it was a hard image, or an easy image\n",
    "\n",
    "plt.imshow(X_test.ix[1000,:].values.reshape(8,8), cmap=plt.cm.gray_r, interpolation='nearest')\n",
    "plt.show()"
   ]
  }
 ],
 "metadata": {
  "kernelspec": {
   "display_name": "Python [default]",
   "language": "python",
   "name": "python3"
  },
  "language_info": {
   "codemirror_mode": {
    "name": "ipython",
    "version": 3
   },
   "file_extension": ".py",
   "mimetype": "text/x-python",
   "name": "python",
   "nbconvert_exporter": "python",
   "pygments_lexer": "ipython3",
   "version": "3.5.3"
  }
 },
 "nbformat": 4,
 "nbformat_minor": 2
}
